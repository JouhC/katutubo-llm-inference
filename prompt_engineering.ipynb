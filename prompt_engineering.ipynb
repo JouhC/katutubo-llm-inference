{
 "cells": [
  {
   "cell_type": "code",
   "execution_count": 1,
   "id": "e86c086a",
   "metadata": {},
   "outputs": [
    {
     "name": "stderr",
     "output_type": "stream",
     "text": [
      "/data/students/joshua_c/dev/katutubo-llm-inference/.venv/lib/python3.8/site-packages/tqdm/auto.py:21: TqdmWarning: IProgress not found. Please update jupyter and ipywidgets. See https://ipywidgets.readthedocs.io/en/stable/user_install.html\n",
      "  from .autonotebook import tqdm as notebook_tqdm\n"
     ]
    }
   ],
   "source": [
    "from utils.inference import KatutuboLLM"
   ]
  },
  {
   "cell_type": "code",
   "execution_count": 3,
   "id": "c1e613ea",
   "metadata": {},
   "outputs": [
    {
     "name": "stderr",
     "output_type": "stream",
     "text": [
      "Loading checkpoint shards: 100%|██████████| 3/3 [00:07<00:00,  2.61s/it]\n"
     ]
    }
   ],
   "source": [
    "model = KatutuboLLM()"
   ]
  },
  {
   "cell_type": "code",
   "execution_count": null,
   "id": "85688e50",
   "metadata": {},
   "outputs": [],
   "source": [
    "model.infer(\"sino ka?\")"
   ]
  }
 ],
 "metadata": {
  "kernelspec": {
   "display_name": ".venv",
   "language": "python",
   "name": "python3"
  },
  "language_info": {
   "codemirror_mode": {
    "name": "ipython",
    "version": 3
   },
   "file_extension": ".py",
   "mimetype": "text/x-python",
   "name": "python",
   "nbconvert_exporter": "python",
   "pygments_lexer": "ipython3",
   "version": "3.8.10"
  }
 },
 "nbformat": 4,
 "nbformat_minor": 5
}
